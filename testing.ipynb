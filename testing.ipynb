{
 "cells": [
  {
   "cell_type": "code",
   "execution_count": 1,
   "metadata": {},
   "outputs": [],
   "source": [
    "from webcrawler import Webscraper, ProcessorType\n"
   ]
  },
  {
   "cell_type": "code",
   "execution_count": 2,
   "metadata": {},
   "outputs": [],
   "source": [
    "async def fetch_html(url, processor):\n",
    "    \"\"\"\n",
    "    Fetch HTML content from the provided URL and send to Logstash.\n",
    "    Returns the fetched document with added IP address.\n",
    "    \"\"\"\n",
    "    document = await Webscraper.fetch_html(url, processor)\n",
    "    return document"
   ]
  },
  {
   "cell_type": "code",
   "execution_count": 3,
   "metadata": {},
   "outputs": [],
   "source": [
    "async def fetch_html(url, processor):\n",
    "    \"\"\"\n",
    "    Fetch HTML content from the provided URL and send to Logstash.\n",
    "    Returns the fetched document with added IP address.\n",
    "    \"\"\"\n",
    "    document = await Webscraper.fetch_html(url, processor)\n",
    "    return document\n",
    "\n",
    "url=\"https://www.channelnewsasia.com/singapore/wake-singapore-woman-miscarriage-plead-guilty-defame-kkh-4453816\"\n",
    "processor=\"CNA\"\n",
    "content= await fetch_html(url, processor)"
   ]
  },
  {
   "cell_type": "code",
   "execution_count": 5,
   "metadata": {},
   "outputs": [
    {
     "data": {
      "text/plain": [
       "['https://www.channelnewsasia.com/singapore/kkh-hospital-miscarriage-wake-singapore-woman-defamation-charged-4315241',\n",
       " 'https://cnalifestyle.channelnewsasia.com/entertainment',\n",
       " 'https://www.channelnewsasia.com/topic/defamation',\n",
       " 'https://www.channelnewsasia.com/#facebook',\n",
       " 'https://cnalifestyle.channelnewsasia.com',\n",
       " 'https://www.channelnewsasia.com/watch',\n",
       " 'https://www.channelnewsasia.com/newsletters',\n",
       " 'https://www.channelnewsasia.com',\n",
       " 'https://www.channelnewsasia.com/interactives',\n",
       " 'https://www.channelnewsasia.com/watch/programmes',\n",
       " 'https://www.channelnewsasia.com/advertise-us',\n",
       " 'https://www.channelnewsasia.com/official-domain',\n",
       " 'https://www.channelnewsasia.com/',\n",
       " 'https://www.channelnewsasia.com/discover',\n",
       " 'https://www.channelnewsasia.com/profile/login',\n",
       " 'https://www.channelnewsasia.com/rss',\n",
       " 'https://www.channelnewsasia.com/latest-news',\n",
       " 'https://www.channelnewsasia.com/topic/crime',\n",
       " 'https://cna.asia/whatsapp',\n",
       " 'https://www.channelnewsasia.com/news/healthmatters',\n",
       " 'https://www.channelnewsasia.com/about-us',\n",
       " 'https://www.channelnewsasia.com/singapore',\n",
       " 'https://www.channelnewsasia.com/topic/china',\n",
       " 'https://www.channelnewsasia.com/cna-insider',\n",
       " 'https://play.google.com/store/apps/details?id=com.channelnewsasia&hl=en&gl=US',\n",
       " 'https://www.channelnewsasia.com/cna-homepage-singapore?web_topstories-navbar_internal_10012022_cna=',\n",
       " 'https://www.channelnewsasia.com/special-reports',\n",
       " 'https://cnalifestyle.channelnewsasia.com/travel',\n",
       " 'https://cnalifestyle.channelnewsasia.com/living',\n",
       " 'https://www.channelnewsasia.com/listen/all',\n",
       " 'https://www.linkedin.com/company/channel-newsasia/',\n",
       " 'https://www.channelnewsasia.com/news/businessblueprint',\n",
       " 'https://www.channelnewsasia.com/branded-content-series',\n",
       " 'https://www.channelnewsasia.com/watch/all',\n",
       " 'https://www.channelnewsasia.com/news/theasiantraveller',\n",
       " 'https://www.channelnewsasia.com/topic/malaysia',\n",
       " 'https://www.channelnewsasia.com/us',\n",
       " 'https://www.channelnewsasia.com/topic/court',\n",
       " 'https://cnalifestyle.channelnewsasia.com/dining',\n",
       " 'https://www.channelnewsasia.com/asia',\n",
       " 'https://play.google.com/store/apps/details?id=com.channelnewsasia',\n",
       " 'https://www.channelnewsasia.com/profile/login?redirect_url=/singapore/wake-singapore-woman-miscarriage-plead-guilty-defame-kkh-4453816&bookmark=f09bf66c-80d7-474f-abd2-87df50ab81fe',\n",
       " 'https://www.channelnewsasia.com/watch/tv-schedule',\n",
       " 'https://www.channelnewsasia.com/fast',\n",
       " 'https://www.channelnewsasia.com/events-partnerships',\n",
       " 'https://www.mediacorp.sg/en/privacy-policy-5933440',\n",
       " 'https://www.channelnewsasia.com/profile',\n",
       " 'https://www.channelnewsasia.com/#linkedin',\n",
       " 'https://www.channelnewsasia.com/category/singapore',\n",
       " 'https://twitter.com/LydiaLamCNA',\n",
       " 'https://cnaluxury.channelnewsasia.com/',\n",
       " 'https://www.channelnewsasia.com#main-content',\n",
       " 'https://www.channelnewsasia.com/international',\n",
       " 'https://www.twitter.com/Channelnewsasia',\n",
       " 'https://www.channelnewsasia.com/cna-homepage-singapore',\n",
       " 'https://www.channelnewsasia.com/listen',\n",
       " 'https://www.channelnewsasia.com/#email',\n",
       " 'https://www.channelnewsasia.com/east-asia',\n",
       " 'https://cnaluxury.channelnewsasia.com/experiences',\n",
       " 'https://cnalifestyle.channelnewsasia.com/women',\n",
       " 'https://www.channelnewsasia.com/about-us/correspondents',\n",
       " 'https://www.channelnewsasia.com/topic/cna-explains',\n",
       " 'https://www.channelnewsasia.com/sustainability',\n",
       " 'javascript:;',\n",
       " 'https://www.channelnewsasia.com/contact-us',\n",
       " 'https://www.channelnewsasia.com/newsletters?inid=internal_organic_newsletters-widget',\n",
       " 'https://www.channelnewsasia.com/author/lydia-lam',\n",
       " 'https://cnalifestyle.channelnewsasia.com/wellness',\n",
       " 'https://www.youtube.com/user/channelnewsasia',\n",
       " 'https://www.channelnewsasia.com/#telegram',\n",
       " 'https://www.channelnewsasia.com/topic/snap-insight',\n",
       " 'https://www.channelnewsasia.com/topic/oil-spill',\n",
       " 'https://www.channelnewsasia.com/singapore/wake-singapore-administrator-charged-article-falsehood-kkh-miscarriage-claims-court-4287706',\n",
       " 'https://www.channelnewsasia.com/commentary',\n",
       " 'https://www.channelnewsasia.com/parliament',\n",
       " 'https://apps.apple.com/sg/app/cna-channel-newsasia/id520773971',\n",
       " 'https://cnaluxury.channelnewsasia.com/remarkableliving',\n",
       " 'https://www.channelnewsasia.com/#whatsapp',\n",
       " 'https://www.channelnewsasia.com/topic/wellness',\n",
       " 'https://www.channelnewsasia.com/about-us/presenters',\n",
       " 'https://www.facebook.com/ChannelNewsAsia',\n",
       " 'https://www.channelnewsasia.com/world',\n",
       " 'https://www.channelnewsasia.com/sport',\n",
       " 'https://www.channelnewsasia.com/mental-health',\n",
       " 'https://cnalifestyle.channelnewsasia.com/style',\n",
       " 'https://www.channelnewsasia.com/profile/myfeed',\n",
       " 'https://cnalifestyle.channelnewsasia.com/',\n",
       " 'https://www.channelnewsasia.com/listen/cna938/schedule',\n",
       " 'https://www.cna.id/',\n",
       " 'https://www.mediacorp.sg/en/termsofuse',\n",
       " 'https://cnaluxury.channelnewsasia.com/people',\n",
       " 'https://www.channelnewsasia.com/business',\n",
       " 'https://www.channelnewsasia.com/topic/israel-hamas-war',\n",
       " 'https://appgallery.huawei.com/#/app/C101326503?appId=C101326503&source=appshare&subsource=C101326503',\n",
       " 'https://www.channelnewsasia.com/mediacorp-digital-network',\n",
       " 'https://www.channelnewsasia.com/topic/billion-dollar-money-laundering-case',\n",
       " 'https://www.channelnewsasia.com/#twitter',\n",
       " 'https://cnaluxury.channelnewsasia.com/obsessions',\n",
       " 'https://itunes.apple.com/us/app/channel-newsasia/id520773971?mt=8',\n",
       " 'https://www.channelnewsasia.com/weather']"
      ]
     },
     "execution_count": 5,
     "metadata": {},
     "output_type": "execute_result"
    }
   ],
   "source": [
    "content['url_content']"
   ]
  },
  {
   "cell_type": "code",
   "execution_count": 4,
   "metadata": {},
   "outputs": [
    {
     "data": {
      "text/plain": [
       "{'content': 'Wake Up Singapore founder and contributor to plead guilty over defaming KKH\\xa0in false miscarriage story - CNA Skip to main content Best News Website or Mobile Service WAN-IFRA Digital Media Awards Worldwide 2022 Best News Website or Mobile Service Digital Media Awards Worldwide 2022 Sign In Account My Feed Search Edition Menu Edition: Singapore Indonesia Asia US/UK Edition: Singapore Indonesia Asia US/UK Navigate to other CNA editions here. Hamburger Menu Close Top Stories East Asia Asia Singapore World Commentary Sustainability Business Sport Latest News CNA Insider Watch Live TV News Reports Documentaries & Shows TV Schedule Listen CNA938 Live Podcasts Radio Schedule Special Reports Singapore Parliament Mental Health Interactives Lifestyle Entertainment Women Wellness Living Style & Beauty Dining Travel Luxury Experiences Obsessions People Remarkable Living Newsletters CNA Eyewitness Send us a news tip Events & Partnerships Branded Content Business Blueprint Health Matters The Asian Traveller Weather Edition: Singapore Indonesia Asia US/UK Navigate to other CNA editions here. Close Close Top Stories East Asia Asia Singapore World Commentary Sustainability Business Sport Latest News CNA Insider Watch Live TV News Reports Documentaries & Shows TV Schedule Listen CNA938 Live Podcasts Radio Schedule Special Reports Singapore Parliament Mental Health Interactives Lifestyle Entertainment Women Wellness Living Style & Beauty Dining Travel Luxury Experiences Obsessions People Remarkable Living Newsletters CNA Eyewitness Send us a news tip Events & Partnerships Branded Content Business Blueprint Health Matters The Asian Traveller Weather Edition: Singapore Indonesia Asia US/UK Navigate to other CNA editions here. Search Trending Topics CNA Explains China oil spill Malaysia Israel-Hamas war Snap Insight Billion-dollar money laundering case Wellness Follow CNA Follow our news Facebook Twitter Youtube LinkedIn RSS Recent Searches Trending Topics CNA Explains China oil spill Malaysia Israel-Hamas war Snap Insight Billion-dollar money laundering case Wellness Main navigation Top Stories Latest News East Asia Asia Singapore Commentary Sustainability CNA Insider Lifestyle Watch Listen + All Sections Singapore Wake Up Singapore founder and contributor to plead guilty over defaming KKH\\xa0in false miscarriage story Bookmark Bookmark Share WhatsApp Telegram Facebook Twitter Email LinkedIn Close Close Top Stories East Asia Asia Singapore World Commentary Sustainability Business Sport Latest News CNA Insider Watch Live TV News Reports Documentaries & Shows TV Schedule Listen CNA938 Live Podcasts Radio Schedule Special Reports Singapore Parliament Mental Health Interactives Lifestyle Entertainment Women Wellness Living Style & Beauty Dining Travel Luxury Experiences Obsessions People Remarkable Living Newsletters CNA Eyewitness Send us a news tip Events & Partnerships Branded Content Business Blueprint Health Matters The Asian Traveller Weather Edition: Singapore Indonesia Asia US/UK Navigate to other CNA editions here. Search Trending Topics CNA Explains China oil spill Malaysia Israel-Hamas war Snap Insight Billion-dollar money laundering case Wellness Follow CNA Follow our news Facebook Twitter Youtube LinkedIn RSS Recent Searches Trending Topics CNA Explains China oil spill Malaysia Israel-Hamas war Snap Insight Billion-dollar money laundering case Wellness Advertisement Advertisement Singapore Wake Up Singapore founder and contributor to plead guilty over defaming KKH\\xa0in false miscarriage story The founder of the alternative news site is set to plead guilty along with the woman who submitted the false miscarriage story. Wake Up Singapore founder and administrator Ariffin Iskandar Sha Ali Akbar (left) and his lawyer Gino Hardial Singh at the State Courts on Apr 24, 2024. (Photo: TODAY/Nuria Ling) New: You can now listen to articles. This audio is generated by an AI tool. Lydia Lam @LydiaLamCNA Lydia Lam 03 Jul 2024 11:47AM Bookmark Bookmark Share WhatsApp Telegram Facebook Twitter Email LinkedIn SINGAPORE: A woman accused of defaming KK Women\\'s and Children\\'s Hospital (KKH) by submitting a fabricated account of a miscarriage at the hospital is set to plead guilty, along with the founder of the platform Wake Up Singapore , which carried the story. Ma Su Nandar Htwe, a 28-year-old Singapore permanent resident from Myanmar, is set to plead guilty on Aug 26. She is slated to do so with founder and administrator of alternative news site Wake Up Singapore, 27-year-old Singaporean Ariffin Iskandar Sha Ali Akbar. The pair face one charge each of criminal defamation. The woman is accused of defaming the hospital on Mar 21, 2022, by messaging Wake Up Singapore\\'s Instagram account. In the messages, she detailed an allegedly fabricated account of how she suffered a miscarriage at KKH in February 2022, intending that the account be published and harm the reputation of the hospital. Ariffin is accused of defaming the hospital by publishing the account in a story titled: \"The baby is probably dead\" - Women (sic) shares a harrowing account of her miscarriage at KKH A&E. Ariffin, who is represented by lawyer Gino Hardial Singh, was given the plead-guilty date on Wednesday (Jul 3) at a further mention of his case. His co-accused, who is represented by Ms Jacintha Gopal and Mr Mohamed Hashim H Sirajudeen, had indicated that she would be pleading guilty a day earlier. The hospital lodged a police report two days after the article was published. After Ma Su Nandar Htwe admitted to lying following scrutiny of the false story, Wake Up Singapore apologised publicly for publishing her claims, saying it had realised that the woman\\'s call logs, invoices and correspondence \"may have all been doctored\". It was also issued a correction direction under the Protection from Online Falsehoods and Manipulation Act (POFMA) in March 2022. At the time, the Health Ministry said KKH had identified the patient and found that she did not suffer any miscarriage. The penalties for criminal defamation are a jail term of up to two years, a fine, or both. Source: CNA/ll(zl) Sign up for our newsletters Get our pick of top stories and thought-provoking articles in your inbox Subscribe here Get the CNA app Stay updated with notifications for breaking news and our best stories Download here Get WhatsApp alerts Join our channel for the top reads for the day on your preferred chat app Join here Related Topics court Crime defamation Advertisement Also worth reading Content is loading... Advertisement Expand to read the full story Get bite-sized news via a new cards interface. Give it a try. Click here to return to FAST Tap here to return to FAST FAST CNA Sections Asia Singapore Business CNA Insider Lifestyle Luxury CNA938 Live Newsletters Commentary Interactives Live TV Sport World Special Reports About CNA About Us Advertise With Us Contact Us Correspondents Presenters Mediacorp Network Follow our news Facebook Twitter Youtube LinkedIn RSS Copyright© Mediacorp 2024. Mediacorp Pte Ltd. All rights reserved. Official Domain | Terms & Conditions | Privacy Policy This browser is no longer supported We know it\\'s a hassle to switch browsers but we want your experience with CNA to be fast, secure and the best it can possibly be. To continue, upgrade to a supported browser or, for the finest experience, download the mobile app. Upgraded but still having issues? Contact us',\n",
       " 'url': 'https://www.channelnewsasia.com/singapore/wake-singapore-woman-miscarriage-plead-guilty-defame-kkh-4453816',\n",
       " 'timestamp': '2024-07-03T05:34:38.471374'}"
      ]
     },
     "execution_count": 4,
     "metadata": {},
     "output_type": "execute_result"
    }
   ],
   "source": [
    "document"
   ]
  },
  {
   "cell_type": "code",
   "execution_count": null,
   "metadata": {},
   "outputs": [],
   "source": []
  }
 ],
 "metadata": {
  "kernelspec": {
   "display_name": "Python 3",
   "language": "python",
   "name": "python3"
  },
  "language_info": {
   "codemirror_mode": {
    "name": "ipython",
    "version": 3
   },
   "file_extension": ".py",
   "mimetype": "text/x-python",
   "name": "python",
   "nbconvert_exporter": "python",
   "pygments_lexer": "ipython3",
   "version": "3.12.4"
  }
 },
 "nbformat": 4,
 "nbformat_minor": 2
}
